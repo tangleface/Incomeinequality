{
 "cells": [
  {
   "cell_type": "code",
   "execution_count": 12,
   "metadata": {},
   "outputs": [
    {
     "name": "stdout",
     "output_type": "stream",
     "text": [
      "Best Parameters: {'smote__sampling_strategy': 0.3, 'clf__n_estimators': 100, 'clf__min_samples_split': 5, 'clf__max_depth': None}\n",
      "              precision    recall  f1-score   support\n",
      "\n",
      "           0       0.97      0.98      0.97     39300\n",
      "           1       0.65      0.51      0.57      2600\n",
      "\n",
      "    accuracy                           0.95     41900\n",
      "   macro avg       0.81      0.75      0.77     41900\n",
      "weighted avg       0.95      0.95      0.95     41900\n",
      "\n"
     ]
    }
   ],
   "source": [
    "# model_training.py (FINAL VERSION)\n",
    "import pandas as pd\n",
    "import joblib\n",
    "from sklearn.model_selection import train_test_split, RandomizedSearchCV\n",
    "from sklearn.ensemble import RandomForestClassifier\n",
    "from imblearn.pipeline import Pipeline\n",
    "from imblearn.over_sampling import SMOTE\n",
    "from sklearn.metrics import classification_report\n",
    "\n",
    "# Load and preprocess data\n",
    "df = pd.read_csv(\"C:/Users/nabil/Downloads/archive (2)/income_inequality_prediction.csv\")\n",
    "df['income_above_limit'] = df['income_above_limit'].map({'Above limit': 1, 'Below limit': 0})\n",
    "df = df.drop(columns=[\"ID\", \"is_hispanic\", \"country_of_birth_mother\", \"country_of_birth_own\"])\n",
    "\n",
    "# Handle missing values\n",
    "df = df.dropna(thresh=len(df)*0.5, axis=1)\n",
    "df = df.fillna(df.mode().iloc[0])\n",
    "\n",
    "# Identify categorical columns\n",
    "categorical_cols = df.select_dtypes(include=['object']).columns.tolist()\n",
    "\n",
    "# Save category mappings BEFORE encoding\n",
    "category_mappings = {col: df[col].unique().tolist() for col in categorical_cols}\n",
    "joblib.dump(category_mappings, 'category_mappings.joblib')\n",
    "\n",
    "# One-hot encoding\n",
    "df = pd.get_dummies(df, columns=categorical_cols, drop_first=True)\n",
    "\n",
    "# Save feature names\n",
    "joblib.dump(df.drop('income_above_limit', axis=1).columns.tolist(), 'feature_columns.joblib')\n",
    "\n",
    "# Split data\n",
    "X = df.drop('income_above_limit', axis=1)\n",
    "y = df['income_above_limit']\n",
    "X_train, X_test, y_train, y_test = train_test_split(X, y, test_size=0.2, stratify=y, random_state=42)\n",
    "\n",
    "# Model pipeline\n",
    "model = Pipeline([\n",
    "    ('smote', SMOTE(random_state=42)),\n",
    "    ('clf', RandomForestClassifier(\n",
    "        class_weight='balanced_subsample',\n",
    "        n_jobs=-1,\n",
    "        random_state=42\n",
    "    ))\n",
    "])\n",
    "\n",
    "# Hyperparameter tuning\n",
    "param_grid = {\n",
    "    'clf__n_estimators': [100, 200],\n",
    "    'clf__max_depth': [None, 10, 20],\n",
    "    'clf__min_samples_split': [2, 5],\n",
    "    'smote__sampling_strategy': [0.3, 0.5]\n",
    "}\n",
    "\n",
    "search = RandomizedSearchCV(model, param_grid, n_iter=10, scoring='f1', cv=3, n_jobs=-1)\n",
    "search.fit(X_train, y_train)\n",
    "\n",
    "# Save model and evaluation\n",
    "best_model = search.best_estimator_\n",
    "joblib.dump(best_model, 'income_model.joblib')\n",
    "\n",
    "print(f\"Best Parameters: {search.best_params_}\")\n",
    "print(classification_report(y_test, best_model.predict(X_test)))"
   ]
  }
 ],
 "metadata": {
  "kernelspec": {
   "display_name": "Python 3",
   "language": "python",
   "name": "python3"
  },
  "language_info": {
   "codemirror_mode": {
    "name": "ipython",
    "version": 3
   },
   "file_extension": ".py",
   "mimetype": "text/x-python",
   "name": "python",
   "nbconvert_exporter": "python",
   "pygments_lexer": "ipython3",
   "version": "3.12.8"
  }
 },
 "nbformat": 4,
 "nbformat_minor": 2
}
